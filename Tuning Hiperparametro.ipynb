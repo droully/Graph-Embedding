{
 "metadata": {
  "language_info": {
   "codemirror_mode": {
    "name": "ipython",
    "version": 3
   },
   "file_extension": ".py",
   "mimetype": "text/x-python",
   "name": "python",
   "nbconvert_exporter": "python",
   "pygments_lexer": "ipython3",
   "version": "3.6.12-final"
  },
  "orig_nbformat": 2,
  "kernelspec": {
   "name": "Python 3.6.12 64-bit ('gpi2': conda)",
   "display_name": "Python 3.6.12 64-bit ('gpi2': conda)",
   "metadata": {
    "interpreter": {
     "hash": "31a0c00a0ebcd7da1c9a2e5bc7623bd588cff534c3a270d1655949f0e98d3931"
    }
   }
  }
 },
 "nbformat": 4,
 "nbformat_minor": 2,
 "cells": [
  {
   "source": [
    "# Tuning de parametros\n",
    "### Clasificicacion de nodos (usuarios o propiedades)\n",
    "Se utiliza tuning.py\n",
    "\n"
   ],
   "cell_type": "markdown",
   "metadata": {}
  },
  {
   "cell_type": "code",
   "execution_count": 46,
   "metadata": {},
   "outputs": [
    {
     "output_type": "execute_result",
     "data": {
      "text/plain": [
       "<module 'tuning' from 'c:\\\\Users\\\\Ignacio\\\\Desktop\\\\GraphEmbedding\\\\src\\\\tuning.py'>"
      ]
     },
     "metadata": {},
     "execution_count": 46
    }
   ],
   "source": [
    "import importlib\n",
    "import pickle\n",
    "\n",
    "import networkx as nx\n",
    "import numpy as np\n",
    "import pandas as pd\n",
    "from h3 import h3\n",
    "\n",
    "from tqdm import tqdm\n",
    "\n",
    "import funciones as fn\n",
    "import tuning\n",
    "\n",
    "importlib.reload(tuning)\n"
   ]
  },
  {
   "cell_type": "code",
   "execution_count": 27,
   "metadata": {},
   "outputs": [],
   "source": [
    "\n",
    "users = pickle.load(open(\"data/users.p\", \"rb\"))\n",
    "visits = pickle.load(open(\"data/visits.p\", \"rb\"))\n",
    "props = pickle.load(open(\"data/props.p\", \"rb\"))\n",
    "\n",
    "grafos = pickle.load(open(\"data/grafos.p\", \"rb\"))\n",
    "grafos_test = pickle.load(open(\"data/grafos_test.p\", \"rb\"))"
   ]
  },
  {
   "source": [
    "Se tienen dos clases para las dos tareas, NodeClassificationTuning y LinkPredictionTuning.\n",
    "\n",
    "Para NodeClassificationTuning, se inicializa con alguna de las proyecciones. Se utiliza TrainModel, con method el metodo de embedding, d la dimension del embedding, y **kwargs los parametros del metodo.\n",
    "\n",
    "method admite: \"line\",\"node2vec\",\"gf\",\"lap\",\"sdne\",'grarep','gae','vgae'\n",
    "\n",
    "Esto entrega un diccionario con las llaves el nodo y los valores el embedding."
   ],
   "cell_type": "markdown",
   "metadata": {}
  },
  {
   "cell_type": "code",
   "execution_count": 3,
   "metadata": {},
   "outputs": [
    {
     "output_type": "stream",
     "name": "stdout",
     "text": [
      "Loading SelfDefined Dataset \n",
      "Start training...\n",
      "Preprocess transition probs...\n",
      "Walk iteration:\n",
      "1 / 5\n",
      "2 / 5\n",
      "3 / 5\n",
      "4 / 5\n",
      "5 / 5\n",
      "training Word2Vec model...\n",
      "Obtaining vectors...\n",
      "Time used = 7.708512783050537s\n",
      "Finished training. Time used = 298.63742661476135.\n"
     ]
    }
   ],
   "source": [
    "tester=tuning.NodeClassificationTuning(grafos.Users_f)\n",
    "method=\"node2vec\"\n",
    "d=10\n",
    "kwargs={\"path_length\":20,\"num_paths\":5,\"p\":0.1, \"q\": 0.01}\n",
    "emb, time =tester.TrainModel(method, d,savefile=None,**kwargs)"
   ]
  },
  {
   "cell_type": "code",
   "execution_count": 7,
   "metadata": {},
   "outputs": [
    {
     "output_type": "execute_result",
     "data": {
      "text/plain": [
       "                0         1         2         3         4         5         6  \\\n",
       "1538173  0.191963  0.050700 -0.537480 -0.530098  0.369866  0.481260  0.367271   \n",
       "1504696 -0.588609  0.262009 -0.568832  0.114191  0.610207  0.496958  0.113908   \n",
       "1517493 -0.024593  0.348950 -0.575486 -0.355170  0.542790  0.600356  0.414754   \n",
       "1535923 -0.060828 -0.202048 -0.664768 -0.647827  0.485376  0.336293  0.080112   \n",
       "1529264 -0.176427  0.101871 -0.337206 -0.218122  0.533139  0.487136  0.254239   \n",
       "\n",
       "                7         8         9  \n",
       "1538173 -1.705468 -1.064930 -0.334499  \n",
       "1504696 -1.562443 -0.912372 -0.403653  \n",
       "1517493 -1.686879 -1.185349 -0.106043  \n",
       "1535923 -1.537917 -0.868026 -0.561341  \n",
       "1529264 -1.583215 -1.010375 -0.496935  "
      ],
      "text/html": "<div>\n<style scoped>\n    .dataframe tbody tr th:only-of-type {\n        vertical-align: middle;\n    }\n\n    .dataframe tbody tr th {\n        vertical-align: top;\n    }\n\n    .dataframe thead th {\n        text-align: right;\n    }\n</style>\n<table border=\"1\" class=\"dataframe\">\n  <thead>\n    <tr style=\"text-align: right;\">\n      <th></th>\n      <th>0</th>\n      <th>1</th>\n      <th>2</th>\n      <th>3</th>\n      <th>4</th>\n      <th>5</th>\n      <th>6</th>\n      <th>7</th>\n      <th>8</th>\n      <th>9</th>\n    </tr>\n  </thead>\n  <tbody>\n    <tr>\n      <th>1538173</th>\n      <td>0.191963</td>\n      <td>0.050700</td>\n      <td>-0.537480</td>\n      <td>-0.530098</td>\n      <td>0.369866</td>\n      <td>0.481260</td>\n      <td>0.367271</td>\n      <td>-1.705468</td>\n      <td>-1.064930</td>\n      <td>-0.334499</td>\n    </tr>\n    <tr>\n      <th>1504696</th>\n      <td>-0.588609</td>\n      <td>0.262009</td>\n      <td>-0.568832</td>\n      <td>0.114191</td>\n      <td>0.610207</td>\n      <td>0.496958</td>\n      <td>0.113908</td>\n      <td>-1.562443</td>\n      <td>-0.912372</td>\n      <td>-0.403653</td>\n    </tr>\n    <tr>\n      <th>1517493</th>\n      <td>-0.024593</td>\n      <td>0.348950</td>\n      <td>-0.575486</td>\n      <td>-0.355170</td>\n      <td>0.542790</td>\n      <td>0.600356</td>\n      <td>0.414754</td>\n      <td>-1.686879</td>\n      <td>-1.185349</td>\n      <td>-0.106043</td>\n    </tr>\n    <tr>\n      <th>1535923</th>\n      <td>-0.060828</td>\n      <td>-0.202048</td>\n      <td>-0.664768</td>\n      <td>-0.647827</td>\n      <td>0.485376</td>\n      <td>0.336293</td>\n      <td>0.080112</td>\n      <td>-1.537917</td>\n      <td>-0.868026</td>\n      <td>-0.561341</td>\n    </tr>\n    <tr>\n      <th>1529264</th>\n      <td>-0.176427</td>\n      <td>0.101871</td>\n      <td>-0.337206</td>\n      <td>-0.218122</td>\n      <td>0.533139</td>\n      <td>0.487136</td>\n      <td>0.254239</td>\n      <td>-1.583215</td>\n      <td>-1.010375</td>\n      <td>-0.496935</td>\n    </tr>\n  </tbody>\n</table>\n</div>"
     },
     "metadata": {},
     "execution_count": 7
    }
   ],
   "source": [
    "emb_df=pd.DataFrame(emb).T\n",
    "emb_df.head()"
   ]
  },
  {
   "source": [
    "Para testear se usa TestModel, este acepta el embedding y un string identificador del embedding. Se obtiene una lista de Results, este es un objeto de EvalNE que recopila los resultados obtenidos del testeo, la lista son los resultados para los distintos bloques de crossvalidation. nombres distintos"
   ],
   "cell_type": "markdown",
   "metadata": {}
  },
  {
   "cell_type": "code",
   "execution_count": 13,
   "metadata": {},
   "outputs": [
    {
     "output_type": "stream",
     "name": "stdout",
     "text": [
      "Loading SelfDefined Dataset \n"
     ]
    },
    {
     "output_type": "execute_result",
     "data": {
      "text/plain": [
       "[<evalne.evaluation.score.NCResults at 0x25eb79d76a0>,\n",
       " <evalne.evaluation.score.NCResults at 0x25eb79d74a8>,\n",
       " <evalne.evaluation.score.NCResults at 0x25e5bcfa860>,\n",
       " <evalne.evaluation.score.NCResults at 0x25e5bcfa780>,\n",
       " <evalne.evaluation.score.NCResults at 0x25e5bcfab38>]"
      ]
     },
     "metadata": {},
     "execution_count": 13
    }
   ],
   "source": [
    "\n",
    "results=tester.TestModel(emb,time=time,method_name=\"tutorialNC\")\n",
    "results"
   ]
  },
  {
   "source": [
    "Se puede usar pretty_print sobre el result para un resumen, o score sobre el tester para el promedio entre todos los resultados."
   ],
   "cell_type": "markdown",
   "metadata": {}
  },
  {
   "cell_type": "code",
   "execution_count": 14,
   "metadata": {},
   "outputs": [
    {
     "output_type": "stream",
     "name": "stdout",
     "text": [
      "Method: tutorial_0.8\nParameters: \ndict_items([('dim', 10), ('nw_name', 'GPI'), ('eval_time', 305.77825236320496)])\nTest scores: \nf1_micro = 0.9416666666666667\nf1_macro = 0.8528103941230744\nf1_weighted = 0.9404777578218404\n\n"
     ]
    }
   ],
   "source": [
    "results[0].pretty_print()"
   ]
  },
  {
   "cell_type": "code",
   "execution_count": 57,
   "metadata": {},
   "outputs": [
    {
     "output_type": "execute_result",
     "data": {
      "text/plain": [
       "0.9481771663319192"
      ]
     },
     "metadata": {},
     "execution_count": 57
    }
   ],
   "source": [
    "tester.score(method_name=\"tutorialNC\")"
   ]
  },
  {
   "source": [
    "Para tunear los hiperparametros se usa TabuSearchParams, a partir de un seed empieza a recorrer la vecindad de esta y guarda los optimos locales en la lista tabu. Para evitar recalcular el mismo embedding guarda los resultados en un Scoresheet, una estrucutra de EvalNE, esta se guarda en la carpeta results.\n"
   ],
   "cell_type": "markdown",
   "metadata": {}
  },
  {
   "cell_type": "code",
   "execution_count": 21,
   "metadata": {},
   "outputs": [
    {
     "output_type": "execute_result",
     "data": {
      "text/plain": [
       "({'path_length': 20, 'num_paths': 10, 'p': 0.1, 'q': 0.01},\n",
       " 0.9432085979443263,\n",
       " 392.85595893859863)"
      ]
     },
     "metadata": {},
     "execution_count": 21
    }
   ],
   "source": [
    "\n",
    "seed={\"path_length\": 20, \"num_paths\": 10,  \"p\": 0.1, \"q\": 0.1}\n",
    "scale={\"path_length\": 5, \"num_paths\": 5,  \"p\": 10, \"q\": 10}\n",
    "\n",
    "best, best_f1, best_time=tester.TabuSearchParams(method=method,dim=d,seed=seed,scale=scale, window=4)\n",
    "\n",
    "best, best_f1, best_time"
   ]
  },
  {
   "source": [
    "Tambien esta la funcion auxiliar tabu_search que repite lo anterior para distintas dimensiones y guarda el resultado final."
   ],
   "cell_type": "markdown",
   "metadata": {}
  },
  {
   "cell_type": "code",
   "execution_count": 51,
   "metadata": {},
   "outputs": [
    {
     "output_type": "stream",
     "name": "stdout",
     "text": [
      "Loading SelfDefined Dataset \n"
     ]
    },
    {
     "output_type": "execute_result",
     "data": {
      "text/plain": [
       "                                                  name     score        time\n",
       "10   {'path_length': 20, 'num_paths': 10, 'p': 0.1,...  0.943209  392.855959\n",
       "30   {'path_length': 20, 'num_paths': 5, 'p': 1.0, ...  0.955376  233.319358\n",
       "50   {'path_length': 20, 'num_paths': 5, 'p': 0.1, ...  0.957289  246.374698\n",
       "100  {'path_length': 15, 'num_paths': 10, 'p': 0.1,...  0.956473  238.504796\n",
       "300  {'path_length': 20, 'num_paths': 5, 'p': 0.1, ...  0.957452  234.657970\n",
       "500  {'path_length': 15, 'num_paths': 5, 'p': 0.1, ...  0.956982  243.938574"
      ],
      "text/html": "<div>\n<style scoped>\n    .dataframe tbody tr th:only-of-type {\n        vertical-align: middle;\n    }\n\n    .dataframe tbody tr th {\n        vertical-align: top;\n    }\n\n    .dataframe thead th {\n        text-align: right;\n    }\n</style>\n<table border=\"1\" class=\"dataframe\">\n  <thead>\n    <tr style=\"text-align: right;\">\n      <th></th>\n      <th>name</th>\n      <th>score</th>\n      <th>time</th>\n    </tr>\n  </thead>\n  <tbody>\n    <tr>\n      <th>10</th>\n      <td>{'path_length': 20, 'num_paths': 10, 'p': 0.1,...</td>\n      <td>0.943209</td>\n      <td>392.855959</td>\n    </tr>\n    <tr>\n      <th>30</th>\n      <td>{'path_length': 20, 'num_paths': 5, 'p': 1.0, ...</td>\n      <td>0.955376</td>\n      <td>233.319358</td>\n    </tr>\n    <tr>\n      <th>50</th>\n      <td>{'path_length': 20, 'num_paths': 5, 'p': 0.1, ...</td>\n      <td>0.957289</td>\n      <td>246.374698</td>\n    </tr>\n    <tr>\n      <th>100</th>\n      <td>{'path_length': 15, 'num_paths': 10, 'p': 0.1,...</td>\n      <td>0.956473</td>\n      <td>238.504796</td>\n    </tr>\n    <tr>\n      <th>300</th>\n      <td>{'path_length': 20, 'num_paths': 5, 'p': 0.1, ...</td>\n      <td>0.957452</td>\n      <td>234.657970</td>\n    </tr>\n    <tr>\n      <th>500</th>\n      <td>{'path_length': 15, 'num_paths': 5, 'p': 0.1, ...</td>\n      <td>0.956982</td>\n      <td>243.938574</td>\n    </tr>\n  </tbody>\n</table>\n</div>"
     },
     "metadata": {},
     "execution_count": 51
    }
   ],
   "source": [
    "tuning.tabu_search(grafos.Users_f,\"nc\",\"node2vec\",seed=seed,scale=scale,dims=[10, 30, 50, 100, 300, 500],iters=2, window=4)"
   ]
  },
  {
   "source": [
    "\n",
    "### Prediccion de enlaces (usuarios y propiedades)\n",
    "\n",
    "la clase tuning aguanta de la misma forma a la tarea de prediccion de enlaces, solo se necesita añadir un grafo de testeo."
   ],
   "cell_type": "markdown",
   "metadata": {}
  },
  {
   "cell_type": "code",
   "execution_count": 102,
   "metadata": {},
   "outputs": [
    {
     "output_type": "stream",
     "name": "stdout",
     "text": [
      "Loading SelfDefined Dataset \n",
      "Start training...\n",
      "total iter: 130\n",
      "epoch 5: cost: 1152143.75; time used = 30.067538261413574s\n",
      "epoch 10: cost: 1150676.75; time used = 26.675824403762817s\n",
      "epoch 15: cost: 1147876.625; time used = 24.88351583480835s\n",
      "epoch 20: cost: 1143396.5; time used = 26.69250512123108s\n",
      "epoch 25: cost: 1136905.75; time used = 27.604138374328613s\n",
      "epoch 30: cost: 1128104.125; time used = 25.65366220474243s\n",
      "epoch 35: cost: 1116736.5; time used = 24.384759187698364s\n",
      "epoch 40: cost: 1102606.875; time used = 27.297007083892822s\n",
      "epoch 45: cost: 1085589.125; time used = 26.07245683670044s\n",
      "epoch 50: cost: 1065631.75; time used = 25.653473377227783s\n",
      "epoch 55: cost: 1042759.4375; time used = 26.844098567962646s\n",
      "epoch 60: cost: 1017072.625; time used = 26.80748748779297s\n",
      "epoch 65: cost: 988745.0625; time used = 27.113673210144043s\n",
      "epoch 70: cost: 958020.0625; time used = 26.984359741210938s\n",
      "epoch 75: cost: 925202.0625; time used = 26.71405291557312s\n",
      "epoch 80: cost: 890645.625; time used = 26.3406503200531s\n",
      "epoch 85: cost: 854744.5625; time used = 25.807239055633545s\n",
      "epoch 90: cost: 817918.0; time used = 23.83196711540222s\n",
      "epoch 95: cost: 780595.5625; time used = 27.31038784980774s\n",
      "epoch 100: cost: 743202.3125; time used = 25.27721881866455s\n",
      "epoch 105: cost: 706142.125; time used = 24.883623123168945s\n",
      "epoch 110: cost: 669785.125; time used = 26.038552045822144s\n",
      "epoch 115: cost: 634456.9375; time used = 24.350027322769165s\n",
      "epoch 120: cost: 600430.8125; time used = 25.25133228302002s\n",
      "epoch 125: cost: 567925.0; time used = 25.616161584854126s\n",
      "epoch 130: cost: 537101.0625; time used = 25.201108932495117s\n",
      "Finished training. Time used = 682.6157186031342.\n"
     ]
    }
   ],
   "source": [
    "tester=tuning.LinkPredictionTuning(grafos.B_f,grafos_test.B_f)\n",
    "method=\"gf\"\n",
    "d=10\n",
    "emb, time =tester.TrainModel(method, d)"
   ]
  },
  {
   "cell_type": "code",
   "execution_count": 23,
   "metadata": {},
   "outputs": [
    {
     "output_type": "execute_result",
     "data": {
      "text/plain": [
       "                 0         1         2         3         4         5  \\\n",
       "721908    0.473702  0.449893  0.467521  0.399514 -0.450170  0.485544   \n",
       "-1528706  0.505100  0.245338  0.490223  0.479180 -0.189687  0.510618   \n",
       "766188    0.552585  0.475195 -0.468736 -0.551207 -0.556510  0.433805   \n",
       "-1525271  0.548274 -0.534137  0.540469 -0.519164 -0.521550 -0.332790   \n",
       "-1545836  0.563226 -0.205420  0.502229 -0.440989 -0.534121 -0.064253   \n",
       "\n",
       "                 6         7         8         9  \n",
       "721908    0.506561 -0.480075  0.452618 -0.087346  \n",
       "-1528706  0.540161 -0.510454  0.435768 -0.336404  \n",
       "766188   -0.524431 -0.423653  0.550547  0.109962  \n",
       "-1525271  0.508949  0.543940  0.555981 -0.549810  \n",
       "-1545836 -0.504323  0.484225  0.530908 -0.429431  "
      ],
      "text/html": "<div>\n<style scoped>\n    .dataframe tbody tr th:only-of-type {\n        vertical-align: middle;\n    }\n\n    .dataframe tbody tr th {\n        vertical-align: top;\n    }\n\n    .dataframe thead th {\n        text-align: right;\n    }\n</style>\n<table border=\"1\" class=\"dataframe\">\n  <thead>\n    <tr style=\"text-align: right;\">\n      <th></th>\n      <th>0</th>\n      <th>1</th>\n      <th>2</th>\n      <th>3</th>\n      <th>4</th>\n      <th>5</th>\n      <th>6</th>\n      <th>7</th>\n      <th>8</th>\n      <th>9</th>\n    </tr>\n  </thead>\n  <tbody>\n    <tr>\n      <th>721908</th>\n      <td>0.473702</td>\n      <td>0.449893</td>\n      <td>0.467521</td>\n      <td>0.399514</td>\n      <td>-0.450170</td>\n      <td>0.485544</td>\n      <td>0.506561</td>\n      <td>-0.480075</td>\n      <td>0.452618</td>\n      <td>-0.087346</td>\n    </tr>\n    <tr>\n      <th>-1528706</th>\n      <td>0.505100</td>\n      <td>0.245338</td>\n      <td>0.490223</td>\n      <td>0.479180</td>\n      <td>-0.189687</td>\n      <td>0.510618</td>\n      <td>0.540161</td>\n      <td>-0.510454</td>\n      <td>0.435768</td>\n      <td>-0.336404</td>\n    </tr>\n    <tr>\n      <th>766188</th>\n      <td>0.552585</td>\n      <td>0.475195</td>\n      <td>-0.468736</td>\n      <td>-0.551207</td>\n      <td>-0.556510</td>\n      <td>0.433805</td>\n      <td>-0.524431</td>\n      <td>-0.423653</td>\n      <td>0.550547</td>\n      <td>0.109962</td>\n    </tr>\n    <tr>\n      <th>-1525271</th>\n      <td>0.548274</td>\n      <td>-0.534137</td>\n      <td>0.540469</td>\n      <td>-0.519164</td>\n      <td>-0.521550</td>\n      <td>-0.332790</td>\n      <td>0.508949</td>\n      <td>0.543940</td>\n      <td>0.555981</td>\n      <td>-0.549810</td>\n    </tr>\n    <tr>\n      <th>-1545836</th>\n      <td>0.563226</td>\n      <td>-0.205420</td>\n      <td>0.502229</td>\n      <td>-0.440989</td>\n      <td>-0.534121</td>\n      <td>-0.064253</td>\n      <td>-0.504323</td>\n      <td>0.484225</td>\n      <td>0.530908</td>\n      <td>-0.429431</td>\n    </tr>\n  </tbody>\n</table>\n</div>"
     },
     "metadata": {},
     "execution_count": 23
    }
   ],
   "source": [
    "emb_df=pd.DataFrame(emb).T\n",
    "emb_df.head()"
   ]
  },
  {
   "source": [],
   "cell_type": "markdown",
   "metadata": {}
  },
  {
   "cell_type": "code",
   "execution_count": 31,
   "metadata": {},
   "outputs": [
    {
     "output_type": "stream",
     "name": "stdout",
     "text": [
      "Loading SelfDefined Dataset \n"
     ]
    },
    {
     "output_type": "execute_result",
     "data": {
      "text/plain": [
       "[<evalne.evaluation.score.Results at 0x25e27a24630>,\n",
       " <evalne.evaluation.score.Results at 0x25e4277c048>,\n",
       " <evalne.evaluation.score.Results at 0x25e5bcfae80>,\n",
       " <evalne.evaluation.score.Results at 0x25ec0ff41d0>]"
      ]
     },
     "metadata": {},
     "execution_count": 31
    }
   ],
   "source": [
    "\n",
    "results=tester.TestModel(emb,time=time,method_name=\"tutorialLP\")\n",
    "results"
   ]
  },
  {
   "source": [
    "TestModel entrega una lista con Results, para cada uno de las tecnicas de embedding de enlaces: l1, l2, hadamard, average. Al igual que antes, se puede usar pretty_print o tester.score para determinar el puntaje AUROC"
   ],
   "cell_type": "markdown",
   "metadata": {}
  },
  {
   "cell_type": "code",
   "execution_count": 34,
   "metadata": {},
   "outputs": [
    {
     "output_type": "stream",
     "name": "stdout",
     "text": [
      "Method: tutorialLP\nParameters: \ndict_items([('dim', 10), ('edge_embed_method', 'hadamard'), ('train_frac', 0.9153803171055389), ('split_alg', 'spanning_tree'), ('owa', True), ('fe_ratio', 1.0000190759604746), ('nw_name', 'GPI'), ('split_id', 0), ('eval_time', 588.83686876297)])\nTest scores: \ntn = 4082\nfp = 765\nfn = 2940\ntp = 1906\nauroc = 0.6728507262385838\nprecision = 0.7135904155746912\nrecall = 0.3933140734626496\nfallout = 0.15782958531050134\nmiss = 0.41868413557391054\naccuracy = 0.6177653977096874\nf_score = 0.5071172010110416\n\n"
     ]
    }
   ],
   "source": [
    "results[2].pretty_print()"
   ]
  },
  {
   "cell_type": "code",
   "execution_count": 38,
   "metadata": {},
   "outputs": [
    {
     "output_type": "execute_result",
     "data": {
      "text/plain": [
       "0.6728507262385838"
      ]
     },
     "metadata": {},
     "execution_count": 38
    }
   ],
   "source": [
    "tester.score(\"tutorialLP\", metric=\"hadamard\")"
   ]
  },
  {
   "source": [
    "A parte de lo anterior y el hecho que se necesita un grafo de testeo la implementacion es identica para LP y NC"
   ],
   "cell_type": "markdown",
   "metadata": {}
  },
  {
   "cell_type": "code",
   "execution_count": 47,
   "metadata": {},
   "outputs": [
    {
     "output_type": "stream",
     "name": "stdout",
     "text": [
      "Loading SelfDefined Dataset \n"
     ]
    },
    {
     "output_type": "execute_result",
     "data": {
      "text/plain": [
       "    name        l1        l2  hadamard   average        time\n",
       "10    {}  0.645279  0.625057  0.670530  0.514211  606.556600\n",
       "30    {}  0.594457  0.571272  0.722769  0.556928  644.451263\n",
       "50    {}  0.546418  0.545177  0.752006  0.614511  627.434258\n",
       "100   {}  0.561184  0.574624  0.763409  0.596196  638.739298\n",
       "300   {}  0.624842  0.632620  0.805607  0.636510  791.528123\n",
       "500   {}  0.651426  0.656475  0.822835  0.656945  909.298197"
      ],
      "text/html": "<div>\n<style scoped>\n    .dataframe tbody tr th:only-of-type {\n        vertical-align: middle;\n    }\n\n    .dataframe tbody tr th {\n        vertical-align: top;\n    }\n\n    .dataframe thead th {\n        text-align: right;\n    }\n</style>\n<table border=\"1\" class=\"dataframe\">\n  <thead>\n    <tr style=\"text-align: right;\">\n      <th></th>\n      <th>name</th>\n      <th>l1</th>\n      <th>l2</th>\n      <th>hadamard</th>\n      <th>average</th>\n      <th>time</th>\n    </tr>\n  </thead>\n  <tbody>\n    <tr>\n      <th>10</th>\n      <td>{}</td>\n      <td>0.645279</td>\n      <td>0.625057</td>\n      <td>0.670530</td>\n      <td>0.514211</td>\n      <td>606.556600</td>\n    </tr>\n    <tr>\n      <th>30</th>\n      <td>{}</td>\n      <td>0.594457</td>\n      <td>0.571272</td>\n      <td>0.722769</td>\n      <td>0.556928</td>\n      <td>644.451263</td>\n    </tr>\n    <tr>\n      <th>50</th>\n      <td>{}</td>\n      <td>0.546418</td>\n      <td>0.545177</td>\n      <td>0.752006</td>\n      <td>0.614511</td>\n      <td>627.434258</td>\n    </tr>\n    <tr>\n      <th>100</th>\n      <td>{}</td>\n      <td>0.561184</td>\n      <td>0.574624</td>\n      <td>0.763409</td>\n      <td>0.596196</td>\n      <td>638.739298</td>\n    </tr>\n    <tr>\n      <th>300</th>\n      <td>{}</td>\n      <td>0.624842</td>\n      <td>0.632620</td>\n      <td>0.805607</td>\n      <td>0.636510</td>\n      <td>791.528123</td>\n    </tr>\n    <tr>\n      <th>500</th>\n      <td>{}</td>\n      <td>0.651426</td>\n      <td>0.656475</td>\n      <td>0.822835</td>\n      <td>0.656945</td>\n      <td>909.298197</td>\n    </tr>\n  </tbody>\n</table>\n</div>"
     },
     "metadata": {},
     "execution_count": 47
    }
   ],
   "source": [
    "tuning.tabu_search(grafos.B_f,\"lp\",\"gf\",G_test=grafos_test.B_f)\n"
   ]
  }
 ]
}